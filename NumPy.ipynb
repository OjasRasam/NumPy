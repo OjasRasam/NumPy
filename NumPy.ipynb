{
 "cells": [
  {
   "cell_type": "markdown",
   "id": "c4ace6e9",
   "metadata": {},
   "source": [
    "### What is NumPy?\n",
    "\n",
    "NumPy stands for Numerical Python. It's a library used to work with arrays (Especially multidimensional arrays), and provides tools for:\n",
    "- Fast mathematical operations on arrays\n",
    "- Linear algebra\n",
    "- Random number generation\n",
    "- Integration with C/C++/Fortran code\n",
    "---\n",
    "### Why NumPy in Data Science?\n",
    "- Data in real world = arrays (tables, images, time series)\n",
    "- NumPy arrays are faster and more memory-efficient than Python lists\n",
    "- Used heavily for data preprocessing, statistics, and model input\n",
    "---\n",
    "### Getting Started"
   ]
  },
  {
   "cell_type": "code",
   "execution_count": 1,
   "id": "3500c477",
   "metadata": {},
   "outputs": [
    {
     "name": "stdout",
     "output_type": "stream",
     "text": [
      "Requirement already satisfied: numpy in c:\\users\\ojas\\anaconda3\\lib\\site-packages (2.1.3)Note: you may need to restart the kernel to use updated packages.\n",
      "\n"
     ]
    }
   ],
   "source": [
    "pip install numpy"
   ]
  },
  {
   "cell_type": "code",
   "execution_count": 2,
   "id": "f836421a",
   "metadata": {},
   "outputs": [],
   "source": [
    "import numpy as np"
   ]
  },
  {
   "cell_type": "markdown",
   "id": "ab8a1d77",
   "metadata": {},
   "source": [
    "---\n",
    "#### 1. Creating Arrays"
   ]
  },
  {
   "cell_type": "code",
   "execution_count": 19,
   "id": "255150bb",
   "metadata": {},
   "outputs": [
    {
     "name": "stdout",
     "output_type": "stream",
     "text": [
      "[1 2 3]\n",
      "[[1 2]\n",
      " [3 4]]\n",
      "2x3 array of 0s\n",
      " [[0. 0. 0.]\n",
      " [0. 0. 0.]]\n",
      "1D Array of 1s\n",
      " [1. 1. 1.]\n",
      "2x2 array filled with 7\n",
      " [[7 7]\n",
      " [7 7]]\n",
      "3x3 identity Matrix\n",
      " [[1. 0. 0.]\n",
      " [0. 1. 0.]\n",
      " [0. 0. 1.]]\n",
      "[0,2,4,6,8]\n",
      " [0 2 4 6 8]\n",
      "5 evenly spaced numbers between 0 and 10\n",
      " [ 0.   2.5  5.   7.5 10. ]\n"
     ]
    }
   ],
   "source": [
    "a = np.array([1, 2, 3])     # 1D array\n",
    "b = np.array([[1, 2],[3, 4]])       # 2D array\n",
    "print(a)\n",
    "print(b)\n",
    "\n",
    "# Common ways to create arrays:\n",
    "\n",
    "print(\"2x3 array of 0s\\n\", np.zeros((2,3)))     # 2x3 array of 0s\n",
    "print(\"1D Array of 1s\\n\", np.ones((3,)))        # 1D array of 1s\n",
    "print(\"2x2 array filled with 7\\n\", np.full((2,2), 7))       # 2x2 array filled with 7\n",
    "print(\"3x3 identity Matrix\\n\", np.eye(3))       # 3x3 identity matrix\n",
    "print(\"[0,2,4,6,8]\\n\", np.arange(0, 10, 2))        # [0, 2, 4, 6, 8]\n",
    "print(\"5 evenly spaced numbers between 0 and 10\\n\", np.linspace(0, 10, 5))       # 5 evenly spaced numbers between 0 and 1"
   ]
  },
  {
   "cell_type": "markdown",
   "id": "2a2ef5ba",
   "metadata": {},
   "source": [
    "---\n",
    "#### 2. Array Properties"
   ]
  },
  {
   "cell_type": "code",
   "execution_count": 20,
   "id": "d7a87faa",
   "metadata": {},
   "outputs": [
    {
     "name": "stdout",
     "output_type": "stream",
     "text": [
      "(2, 3)\n",
      "2\n",
      "6\n",
      "int64\n"
     ]
    }
   ],
   "source": [
    "arr = np.array([[1, 2, 3], [4, 5, 6]])\n",
    "\n",
    "print(arr.shape)\n",
    "print(arr.ndim)\n",
    "print(arr.size)\n",
    "print(arr.dtype)\n"
   ]
  },
  {
   "cell_type": "markdown",
   "id": "036ad935",
   "metadata": {},
   "source": [
    "---\n",
    "#### 3. Indexing & Slicing"
   ]
  },
  {
   "cell_type": "code",
   "execution_count": null,
   "id": "4ae0ae6f",
   "metadata": {},
   "outputs": [
    {
     "name": "stdout",
     "output_type": "stream",
     "text": [
      "[[1 2 3]\n",
      " [4 5 6]]\n",
      "5\n",
      "[4 5 6]\n",
      "[1 2 3]\n",
      "[2 5]\n",
      "[3 6]\n",
      "[[1 2]\n",
      " [4 5]]\n"
     ]
    }
   ],
   "source": [
    "print(arr)\n",
    "print(arr[1,1]) # Print element at row index 1 and column index 1\n",
    "print(arr[1])   # Print row index 1\n",
    "print(arr[0])   # Print row index 0\n",
    "print(arr[:, 1])# Print all elements from all rows, with column index 1 [2, 5]\n",
    "print(arr[:, 2])# Print all elements from all rows, with column index 2 [3, 6]\n",
    "print(arr[0:2, 0:2]) # Sub array"
   ]
  },
  {
   "cell_type": "markdown",
   "id": "62721f1c",
   "metadata": {},
   "source": [
    "---\n",
    "#### 4. Array Operations"
   ]
  },
  {
   "cell_type": "code",
   "execution_count": null,
   "id": "a9f94097",
   "metadata": {},
   "outputs": [],
   "source": []
  },
  {
   "cell_type": "code",
   "execution_count": null,
   "id": "d3e54b44",
   "metadata": {},
   "outputs": [],
   "source": []
  },
  {
   "cell_type": "code",
   "execution_count": null,
   "id": "1822cfae",
   "metadata": {},
   "outputs": [],
   "source": []
  },
  {
   "cell_type": "code",
   "execution_count": null,
   "id": "c970c628",
   "metadata": {},
   "outputs": [],
   "source": []
  },
  {
   "cell_type": "code",
   "execution_count": null,
   "id": "6872b475",
   "metadata": {},
   "outputs": [],
   "source": []
  },
  {
   "cell_type": "code",
   "execution_count": null,
   "id": "8473a933",
   "metadata": {},
   "outputs": [],
   "source": []
  },
  {
   "cell_type": "code",
   "execution_count": null,
   "id": "b9c808d1",
   "metadata": {},
   "outputs": [],
   "source": []
  },
  {
   "cell_type": "markdown",
   "id": "89f960a9",
   "metadata": {},
   "source": []
  }
 ],
 "metadata": {
  "kernelspec": {
   "display_name": "base",
   "language": "python",
   "name": "python3"
  },
  "language_info": {
   "codemirror_mode": {
    "name": "ipython",
    "version": 3
   },
   "file_extension": ".py",
   "mimetype": "text/x-python",
   "name": "python",
   "nbconvert_exporter": "python",
   "pygments_lexer": "ipython3",
   "version": "3.13.5"
  }
 },
 "nbformat": 4,
 "nbformat_minor": 5
}
