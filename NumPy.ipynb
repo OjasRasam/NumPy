{
 "cells": [
  {
   "cell_type": "markdown",
   "id": "c4ace6e9",
   "metadata": {},
   "source": [
    "### What is NumPy?\n",
    "\n",
    "NumPy stands for Numerical Python. It's a library used to work with arrays (Especially multidimensional arrays), and provides tools for:\n",
    "- Fast mathematical operations on arrays\n",
    "- Linear algebra\n",
    "- Random number generation\n",
    "- Integration with C/C++/Fortran code\n",
    "---\n",
    "### Why NumPy in Data Science?\n",
    "- Data in real world = arrays (tables, images, time series)\n",
    "- NumPy arrays are faster and more memory-efficient than Python lists\n",
    "- Used heavily for data preprocessing, statistics, and model input\n",
    "---\n",
    "### Getting Started"
   ]
  },
  {
   "cell_type": "code",
   "execution_count": 1,
   "id": "3500c477",
   "metadata": {},
   "outputs": [
    {
     "name": "stdout",
     "output_type": "stream",
     "text": [
      "Requirement already satisfied: numpy in c:\\users\\ojas\\anaconda3\\lib\\site-packages (2.1.3)Note: you may need to restart the kernel to use updated packages.\n",
      "\n"
     ]
    }
   ],
   "source": [
    "pip install numpy"
   ]
  },
  {
   "cell_type": "code",
   "execution_count": 2,
   "id": "f836421a",
   "metadata": {},
   "outputs": [],
   "source": [
    "import numpy as np"
   ]
  },
  {
   "cell_type": "markdown",
   "id": "ab8a1d77",
   "metadata": {},
   "source": [
    "---\n",
    "#### 1. Creating Arrays"
   ]
  },
  {
   "cell_type": "code",
   "execution_count": 19,
   "id": "255150bb",
   "metadata": {},
   "outputs": [
    {
     "name": "stdout",
     "output_type": "stream",
     "text": [
      "[1 2 3]\n",
      "[[1 2]\n",
      " [3 4]]\n",
      "2x3 array of 0s\n",
      " [[0. 0. 0.]\n",
      " [0. 0. 0.]]\n",
      "1D Array of 1s\n",
      " [1. 1. 1.]\n",
      "2x2 array filled with 7\n",
      " [[7 7]\n",
      " [7 7]]\n",
      "3x3 identity Matrix\n",
      " [[1. 0. 0.]\n",
      " [0. 1. 0.]\n",
      " [0. 0. 1.]]\n",
      "[0,2,4,6,8]\n",
      " [0 2 4 6 8]\n",
      "5 evenly spaced numbers between 0 and 10\n",
      " [ 0.   2.5  5.   7.5 10. ]\n"
     ]
    }
   ],
   "source": [
    "a = np.array([1, 2, 3])     # 1D array\n",
    "b = np.array([[1, 2],[3, 4]])       # 2D array\n",
    "print(a)\n",
    "print(b)\n",
    "\n",
    "# Common ways to create arrays:\n",
    "\n",
    "print(\"2x3 array of 0s\\n\", np.zeros((2,3)))     # 2x3 array of 0s\n",
    "print(\"1D Array of 1s\\n\", np.ones((3,)))        # 1D array of 1s\n",
    "print(\"2x2 array filled with 7\\n\", np.full((2,2), 7))       # 2x2 array filled with 7\n",
    "print(\"3x3 identity Matrix\\n\", np.eye(3))       # 3x3 identity matrix\n",
    "print(\"[0,2,4,6,8]\\n\", np.arange(0, 10, 2))        # [0, 2, 4, 6, 8]\n",
    "print(\"5 evenly spaced numbers between 0 and 10\\n\", np.linspace(0, 10, 5))       # 5 evenly spaced numbers between 0 and 1"
   ]
  },
  {
   "cell_type": "markdown",
   "id": "2a2ef5ba",
   "metadata": {},
   "source": [
    "---\n",
    "#### 2. Array Properties"
   ]
  },
  {
   "cell_type": "code",
   "execution_count": 20,
   "id": "d7a87faa",
   "metadata": {},
   "outputs": [
    {
     "name": "stdout",
     "output_type": "stream",
     "text": [
      "(2, 3)\n",
      "2\n",
      "6\n",
      "int64\n"
     ]
    }
   ],
   "source": [
    "arr = np.array([[1, 2, 3], [4, 5, 6]])\n",
    "\n",
    "print(arr.shape)\n",
    "print(arr.ndim)\n",
    "print(arr.size)\n",
    "print(arr.dtype)\n"
   ]
  },
  {
   "cell_type": "markdown",
   "id": "036ad935",
   "metadata": {},
   "source": [
    "---\n",
    "#### 3. Indexing & Slicing"
   ]
  },
  {
   "cell_type": "code",
   "execution_count": null,
   "id": "4ae0ae6f",
   "metadata": {},
   "outputs": [
    {
     "name": "stdout",
     "output_type": "stream",
     "text": [
      "[[1 2 3]\n",
      " [4 5 6]]\n",
      "5\n",
      "[4 5 6]\n",
      "[1 2 3]\n",
      "[2 5]\n",
      "[3 6]\n",
      "[[1 2]\n",
      " [4 5]]\n"
     ]
    }
   ],
   "source": [
    "print(arr)\n",
    "print(arr[1,1]) # Print element at row index 1 and column index 1\n",
    "print(arr[1])   # Print row index 1\n",
    "print(arr[0])   # Print row index 0\n",
    "print(arr[:, 1])# Print all elements from all rows, with column index 1 [2, 5]\n",
    "print(arr[:, 2])# Print all elements from all rows, with column index 2 [3, 6]\n",
    "print(arr[0:2, 0:2]) # Sub array"
   ]
  },
  {
   "cell_type": "markdown",
   "id": "62721f1c",
   "metadata": {},
   "source": [
    "---\n",
    "#### 4. Array Operations"
   ]
  },
  {
   "cell_type": "code",
   "execution_count": 34,
   "id": "a9f94097",
   "metadata": {},
   "outputs": [
    {
     "name": "stdout",
     "output_type": "stream",
     "text": [
      "Addition of a and b  [5 7 9]\n",
      "Multiplication of a and b  [ 4 10 18]\n",
      "Square of array a  [1 4 9]\n",
      "Cube of array b  [ 64 125 216]\n"
     ]
    }
   ],
   "source": [
    "a = np.array([1, 2, 3])\n",
    "b = np.array([4, 5, 6])\n",
    "\n",
    "print(\"Addition of a and b \", a + b )\n",
    "print(\"Multiplication of a and b \", a * b)\n",
    "print(\"Square of array a \", a ** 2)\n",
    "print(\"Cube of array b \", b ** 3)"
   ]
  },
  {
   "cell_type": "markdown",
   "id": "2b826e61",
   "metadata": {},
   "source": [
    "***\n",
    "#### 5. Boolean Masking & Filtering"
   ]
  },
  {
   "cell_type": "code",
   "execution_count": 37,
   "id": "d3e54b44",
   "metadata": {},
   "outputs": [
    {
     "name": "stdout",
     "output_type": "stream",
     "text": [
      "[False False  True  True  True]\n",
      "[4 5]\n",
      "[1 3 5]\n"
     ]
    }
   ],
   "source": [
    "a = np.array([1, 2, 3, 4, 5])\n",
    "\n",
    "mask = a > 2\n",
    "print(mask)\n",
    "print(a[a>3])\n",
    "print(a[a % 2 != 0])"
   ]
  },
  {
   "cell_type": "markdown",
   "id": "de095fe7",
   "metadata": {},
   "source": [
    "---\n",
    "#### 6. Reshaping Arrays"
   ]
  },
  {
   "cell_type": "code",
   "execution_count": 44,
   "id": "1822cfae",
   "metadata": {},
   "outputs": [
    {
     "name": "stdout",
     "output_type": "stream",
     "text": [
      "[0 1 2 3 4 5]\n",
      "[[0 1]\n",
      " [2 3]\n",
      " [4 5]]\n",
      "[[1 2 3]\n",
      " [4 5 6]]\n",
      "[1 2 3 4 5 6]\n"
     ]
    }
   ],
   "source": [
    "a = np.arange(6)\n",
    "print(a)\n",
    "a = a.reshape(3,2)\n",
    "print(a)\n",
    "\n",
    "a = np.array([[1, 2, 3],[4, 5, 6]])\n",
    "print(a)\n",
    "a = a.flatten() \n",
    "print(a)"
   ]
  },
  {
   "cell_type": "markdown",
   "id": "24bba709",
   "metadata": {},
   "source": [
    "---\n",
    "#### 7. Matrix Operations"
   ]
  },
  {
   "cell_type": "code",
   "execution_count": 49,
   "id": "c970c628",
   "metadata": {},
   "outputs": [
    {
     "name": "stdout",
     "output_type": "stream",
     "text": [
      "[[1 2]\n",
      " [3 4]]\n",
      "[[5 6]\n",
      " [7 8]]\n",
      "[[19 22]\n",
      " [43 50]]\n",
      "[[19 22]\n",
      " [43 50]]\n",
      "[[1 3]\n",
      " [2 4]]\n"
     ]
    },
    {
     "data": {
      "text/plain": [
       "array([[-2. ,  1. ],\n",
       "       [ 1.5, -0.5]])"
      ]
     },
     "execution_count": 49,
     "metadata": {},
     "output_type": "execute_result"
    }
   ],
   "source": [
    "A = np.array([[1, 2],[3, 4]])\n",
    "B = np.array([[5, 6],[7, 8]])\n",
    "\n",
    "print(A)\n",
    "print(B)\n",
    "\n",
    "print(A @ B)\n",
    "print(np.dot(A, B))\n",
    "print(np.transpose(A))\n",
    "np.linalg.inv(A)"
   ]
  },
  {
   "cell_type": "markdown",
   "id": "7ea12c6a",
   "metadata": {},
   "source": [
    "---\n",
    "#### 8. Random Number (useful in ML)"
   ]
  },
  {
   "cell_type": "code",
   "execution_count": 60,
   "id": "6872b475",
   "metadata": {},
   "outputs": [
    {
     "name": "stdout",
     "output_type": "stream",
     "text": [
      "None\n",
      "[[0.5488135  0.71518937 0.60276338]\n",
      " [0.54488318 0.4236548  0.64589411]]\n",
      "[ 0.95008842 -0.15135721 -0.10321885]\n",
      "[6 7 7 8 1]\n"
     ]
    }
   ],
   "source": [
    "randNo = np.random.seed(0)\n",
    "print(randNo)\n",
    "print(np.random.rand(2,3))\n",
    "print(np.random.randn(3))\n",
    "print(np.random.randint(0, 10, 5))"
   ]
  },
  {
   "cell_type": "markdown",
   "id": "93930bc0",
   "metadata": {},
   "source": [
    "---\n",
    "#### 9. Useful NumPy Functions in Data Science"
   ]
  },
  {
   "cell_type": "code",
   "execution_count": 75,
   "id": "8473a933",
   "metadata": {},
   "outputs": [
    {
     "name": "stdout",
     "output_type": "stream",
     "text": [
      "[ 1  2  3  4  5  6  7  8  9 10]\n",
      "[ 1  2  3  4  5  6  7  8  9 10]\n",
      "10\n",
      "[0 1 2 3 4 5 6 7 8 9]\n",
      "[ 1  3  6 10 15 21 28 36 45 55]\n",
      "-------------------\n",
      "[9 8 7 6 5 4 3 2 1 0]\n",
      "[[ 1  2  3  4  5]\n",
      " [10  9  8  7  6]]\n",
      "[[0 1 2 3 4]\n",
      " [4 3 2 1 0]]\n",
      "(array([0, 0, 0, 1, 1, 1, 1, 1]), array([2, 3, 4, 0, 1, 2, 3, 4]))\n"
     ]
    }
   ],
   "source": [
    "arr = np.array([1,2,3,4,5,6,7,8,9,10])\n",
    "print(arr)\n",
    "print(np.unique(arr))\n",
    "print(arr[np.argmax(arr)])\n",
    "print(np.argsort(arr))\n",
    "print(np.cumsum(arr))\n",
    "\n",
    "print(\"-------------------\")\n",
    "\n",
    "arr1 = np.array([10,9,8,7,6,5,4,3,2,1])\n",
    "print(np.argsort(arr1))\n",
    "\n",
    "arr2d = np.array([[1,2,3,4,5],[10,9,8,7,6]])\n",
    "print(arr2d)\n",
    "print(np.argsort(arr2d))\n",
    "print(np.where(arr2d > 2))"
   ]
  },
  {
   "cell_type": "code",
   "execution_count": null,
   "id": "71e1c6fb",
   "metadata": {},
   "outputs": [],
   "source": []
  },
  {
   "cell_type": "code",
   "execution_count": null,
   "id": "be70d660",
   "metadata": {},
   "outputs": [],
   "source": []
  },
  {
   "cell_type": "code",
   "execution_count": null,
   "id": "7e106155",
   "metadata": {},
   "outputs": [],
   "source": []
  },
  {
   "cell_type": "code",
   "execution_count": null,
   "id": "c07a99a4",
   "metadata": {},
   "outputs": [],
   "source": []
  },
  {
   "cell_type": "code",
   "execution_count": null,
   "id": "d9b1e454",
   "metadata": {},
   "outputs": [],
   "source": []
  },
  {
   "cell_type": "code",
   "execution_count": null,
   "id": "199e9c79",
   "metadata": {},
   "outputs": [],
   "source": []
  },
  {
   "cell_type": "code",
   "execution_count": null,
   "id": "b9c808d1",
   "metadata": {},
   "outputs": [],
   "source": []
  },
  {
   "cell_type": "markdown",
   "id": "89f960a9",
   "metadata": {},
   "source": []
  }
 ],
 "metadata": {
  "kernelspec": {
   "display_name": "base",
   "language": "python",
   "name": "python3"
  },
  "language_info": {
   "codemirror_mode": {
    "name": "ipython",
    "version": 3
   },
   "file_extension": ".py",
   "mimetype": "text/x-python",
   "name": "python",
   "nbconvert_exporter": "python",
   "pygments_lexer": "ipython3",
   "version": "3.13.5"
  }
 },
 "nbformat": 4,
 "nbformat_minor": 5
}
